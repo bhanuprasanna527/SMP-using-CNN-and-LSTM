{
 "cells": [
  {
   "cell_type": "code",
   "execution_count": 1,
   "id": "eb15f2a2",
   "metadata": {},
   "outputs": [
    {
     "data": {
      "text/plain": [
       "Index(['SYMBOL', ' SERIES', ' DATE1', ' PREV_CLOSE', ' OPEN_PRICE',\n",
       "       ' HIGH_PRICE', ' LOW_PRICE', ' LAST_PRICE', ' CLOSE_PRICE',\n",
       "       ' AVG_PRICE', ' TTL_TRD_QNTY', ' TURNOVER_LACS', ' NO_OF_TRADES',\n",
       "       ' DELIV_QTY', ' DELIV_PER'],\n",
       "      dtype='object')"
      ]
     },
     "execution_count": 1,
     "metadata": {},
     "output_type": "execute_result"
    }
   ],
   "source": [
    "import numpy as np\n",
    "import pandas as pd\n",
    "from sklearn.preprocessing import MinMaxScaler\n",
    "scaler = MinMaxScaler()\n",
    "\n",
    "df = pd.read_csv('RELIANCE.csv')\n",
    "df.columns"
   ]
  },
  {
   "cell_type": "code",
   "execution_count": 2,
   "id": "5d4d0704",
   "metadata": {},
   "outputs": [],
   "source": [
    "df.drop(['SYMBOL', ' SERIES', ' DATE1'], inplace=True, axis=1)"
   ]
  },
  {
   "cell_type": "code",
   "execution_count": 3,
   "id": "81bdb168",
   "metadata": {},
   "outputs": [],
   "source": [
    "df_Y = df[' CLOSE_PRICE'].copy()"
   ]
  },
  {
   "cell_type": "code",
   "execution_count": 4,
   "id": "5a7231a4",
   "metadata": {},
   "outputs": [],
   "source": [
    "df_split_Y = scaler.fit_transform(df_Y.to_numpy().reshape(-1,1))\n",
    "df_split_Y = pd.DataFrame(df_split_Y)"
   ]
  },
  {
   "cell_type": "code",
   "execution_count": 5,
   "id": "f0e7e685",
   "metadata": {},
   "outputs": [],
   "source": [
    "train_Y = df_split_Y.iloc[:487]\n",
    "test_Y = df_split_Y.iloc[487:609]"
   ]
  },
  {
   "cell_type": "code",
   "execution_count": 6,
   "id": "0b025d06",
   "metadata": {},
   "outputs": [
    {
     "name": "stdout",
     "output_type": "stream",
     "text": [
      "487\n",
      "122\n"
     ]
    }
   ],
   "source": [
    "from sklearn.model_selection import train_test_split\n",
    "\n",
    "X = []\n",
    "Y = []\n",
    "window_size=100\n",
    "for i in range(1 , len(df) - window_size -1 , 1):\n",
    "    first = df.iloc[i,2]\n",
    "    temp = []\n",
    "    temp2 = []\n",
    "    for j in range(window_size):\n",
    "        temp.append((df.iloc[i + j, 2] - first) / first)\n",
    "    temp2.append((df.iloc[i + window_size, 2] - first) / first)\n",
    "    X.append(np.array(temp).reshape(100, 1))\n",
    "    Y.append(np.array(temp2).reshape(1, 1))\n",
    "    \n",
    "# Y = df_train[' CLOSE_PRICE'].copy()\n",
    "# Y = df_train[' CLOSE_PRICE'][:609].copy().values\n",
    "# Y = Y.reshape((609,1,1))\n",
    "\n",
    "x_train, x_test, y_train, y_test = train_test_split(X, Y, test_size=0.2, shuffle=False)\n",
    "\n",
    "train_X = np.array(x_train)\n",
    "test_X = np.array(x_test)\n",
    "# train_Y = np.array(y_train)\n",
    "# test_Y = np.array(y_test)\n",
    "\n",
    "train_X = train_X.reshape(train_X.shape[0],1,100,1)\n",
    "test_X = test_X.reshape(test_X.shape[0],1,100,1)\n",
    "\n",
    "print(len(train_X))\n",
    "print(len(test_X))"
   ]
  },
  {
   "cell_type": "code",
   "execution_count": 7,
   "id": "a3f58f3c",
   "metadata": {},
   "outputs": [],
   "source": [
    "dfx = pd.DataFrame(train_X.reshape((487,100)))\n",
    "dfy = pd.DataFrame(test_X.reshape((122,100)))"
   ]
  },
  {
   "cell_type": "code",
   "execution_count": 8,
   "id": "696a0fb4",
   "metadata": {},
   "outputs": [],
   "source": [
    "df_split_X = pd.DataFrame(scaler.fit_transform(df))"
   ]
  },
  {
   "cell_type": "code",
   "execution_count": 9,
   "id": "652392e7",
   "metadata": {},
   "outputs": [],
   "source": [
    "mx = pd.DataFrame(np.array(df_split_X.iloc[:487]))\n",
    "train_X = pd.concat([dfx, mx], axis=1)\n",
    "\n",
    "my = pd.DataFrame(np.array(df_split_X.iloc[487:609]))\n",
    "test_X = pd.concat([dfy,my], axis=1)"
   ]
  },
  {
   "cell_type": "code",
   "execution_count": 10,
   "id": "c83d0f82",
   "metadata": {},
   "outputs": [
    {
     "data": {
      "text/plain": [
       "(487, 112)"
      ]
     },
     "execution_count": 10,
     "metadata": {},
     "output_type": "execute_result"
    }
   ],
   "source": [
    "train_X.shape"
   ]
  },
  {
   "cell_type": "code",
   "execution_count": 11,
   "id": "2b9fda9d",
   "metadata": {},
   "outputs": [
    {
     "data": {
      "text/plain": [
       "(487, 1)"
      ]
     },
     "execution_count": 11,
     "metadata": {},
     "output_type": "execute_result"
    }
   ],
   "source": [
    "train_Y.shape"
   ]
  },
  {
   "cell_type": "code",
   "execution_count": 12,
   "id": "bbec24d4",
   "metadata": {
    "scrolled": true
   },
   "outputs": [
    {
     "data": {
      "text/plain": [
       "(122, 112)"
      ]
     },
     "execution_count": 12,
     "metadata": {},
     "output_type": "execute_result"
    }
   ],
   "source": [
    "test_X.shape"
   ]
  },
  {
   "cell_type": "code",
   "execution_count": 13,
   "id": "5cb2ecea",
   "metadata": {},
   "outputs": [
    {
     "data": {
      "text/plain": [
       "(122, 1)"
      ]
     },
     "execution_count": 13,
     "metadata": {},
     "output_type": "execute_result"
    }
   ],
   "source": [
    "test_Y.shape"
   ]
  },
  {
   "cell_type": "code",
   "execution_count": 14,
   "id": "7f637db7",
   "metadata": {},
   "outputs": [],
   "source": [
    "train_X = np.array(train_X)\n",
    "test_X = np.array(test_X)\n",
    "train_Y = np.array(train_Y)\n",
    "test_Y = np.array(test_Y)\n",
    "\n",
    "train_X = train_X.reshape(train_X.shape[0],1,112,1)\n",
    "test_X = test_X.reshape(test_X.shape[0],1,112,1)"
   ]
  },
  {
   "cell_type": "code",
   "execution_count": 15,
   "id": "0e5961ee",
   "metadata": {
    "scrolled": true
   },
   "outputs": [
    {
     "name": "stdout",
     "output_type": "stream",
     "text": [
      "Metal device set to: Apple M1 Pro\n",
      "Epoch 1/100\n"
     ]
    },
    {
     "name": "stderr",
     "output_type": "stream",
     "text": [
      "2022-10-25 22:25:02.296915: I tensorflow/core/common_runtime/pluggable_device/pluggable_device_factory.cc:306] Could not identify NUMA node of platform GPU ID 0, defaulting to 0. Your kernel may not have been built with NUMA support.\n",
      "2022-10-25 22:25:02.297047: I tensorflow/core/common_runtime/pluggable_device/pluggable_device_factory.cc:272] Created TensorFlow device (/job:localhost/replica:0/task:0/device:GPU:0 with 0 MB memory) -> physical PluggableDevice (device: 0, name: METAL, pci bus id: <undefined>)\n",
      "2022-10-25 22:25:02.393617: W tensorflow/core/platform/profile_utils/cpu_utils.cc:128] Failed to get CPU frequency: 0 Hz\n",
      "2022-10-25 22:25:04.237964: I tensorflow/core/grappler/optimizers/custom_graph_optimizer_registry.cc:114] Plugin optimizer for device_type GPU is enabled.\n",
      "2022-10-25 22:25:04.596362: I tensorflow/core/grappler/optimizers/custom_graph_optimizer_registry.cc:114] Plugin optimizer for device_type GPU is enabled.\n",
      "2022-10-25 22:25:04.607756: I tensorflow/core/grappler/optimizers/custom_graph_optimizer_registry.cc:114] Plugin optimizer for device_type GPU is enabled.\n",
      "2022-10-25 22:25:04.670028: I tensorflow/core/grappler/optimizers/custom_graph_optimizer_registry.cc:114] Plugin optimizer for device_type GPU is enabled.\n",
      "2022-10-25 22:25:04.681169: I tensorflow/core/grappler/optimizers/custom_graph_optimizer_registry.cc:114] Plugin optimizer for device_type GPU is enabled.\n",
      "2022-10-25 22:25:04.792868: I tensorflow/core/grappler/optimizers/custom_graph_optimizer_registry.cc:114] Plugin optimizer for device_type GPU is enabled.\n",
      "2022-10-25 22:25:04.809109: I tensorflow/core/grappler/optimizers/custom_graph_optimizer_registry.cc:114] Plugin optimizer for device_type GPU is enabled.\n",
      "2022-10-25 22:25:04.934455: I tensorflow/core/grappler/optimizers/custom_graph_optimizer_registry.cc:114] Plugin optimizer for device_type GPU is enabled.\n",
      "2022-10-25 22:25:04.952226: I tensorflow/core/grappler/optimizers/custom_graph_optimizer_registry.cc:114] Plugin optimizer for device_type GPU is enabled.\n"
     ]
    },
    {
     "name": "stdout",
     "output_type": "stream",
     "text": [
      "16/16 [==============================] - ETA: 0s - loss: 0.1522 - mse: 0.1522 - mae: 0.3163"
     ]
    },
    {
     "name": "stderr",
     "output_type": "stream",
     "text": [
      "2022-10-25 22:25:06.079083: I tensorflow/core/grappler/optimizers/custom_graph_optimizer_registry.cc:114] Plugin optimizer for device_type GPU is enabled.\n",
      "2022-10-25 22:25:06.191682: I tensorflow/core/grappler/optimizers/custom_graph_optimizer_registry.cc:114] Plugin optimizer for device_type GPU is enabled.\n",
      "2022-10-25 22:25:06.199837: I tensorflow/core/grappler/optimizers/custom_graph_optimizer_registry.cc:114] Plugin optimizer for device_type GPU is enabled.\n",
      "2022-10-25 22:25:06.245901: I tensorflow/core/grappler/optimizers/custom_graph_optimizer_registry.cc:114] Plugin optimizer for device_type GPU is enabled.\n",
      "2022-10-25 22:25:06.254277: I tensorflow/core/grappler/optimizers/custom_graph_optimizer_registry.cc:114] Plugin optimizer for device_type GPU is enabled.\n"
     ]
    },
    {
     "name": "stdout",
     "output_type": "stream",
     "text": [
      "16/16 [==============================] - 4s 88ms/step - loss: 0.1522 - mse: 0.1522 - mae: 0.3163 - val_loss: 0.0502 - val_mse: 0.0502 - val_mae: 0.1833\n",
      "Epoch 2/100\n",
      "16/16 [==============================] - 0s 31ms/step - loss: 0.0515 - mse: 0.0515 - mae: 0.1872 - val_loss: 0.0466 - val_mse: 0.0466 - val_mae: 0.1689\n",
      "Epoch 3/100\n",
      "16/16 [==============================] - 0s 30ms/step - loss: 0.0381 - mse: 0.0381 - mae: 0.1570 - val_loss: 0.0239 - val_mse: 0.0239 - val_mae: 0.1235\n",
      "Epoch 4/100\n",
      "16/16 [==============================] - 0s 29ms/step - loss: 0.0158 - mse: 0.0158 - mae: 0.0982 - val_loss: 0.0071 - val_mse: 0.0071 - val_mae: 0.0598\n",
      "Epoch 5/100\n",
      "16/16 [==============================] - 0s 30ms/step - loss: 0.0050 - mse: 0.0050 - mae: 0.0492 - val_loss: 0.0053 - val_mse: 0.0053 - val_mae: 0.0644\n",
      "Epoch 6/100\n",
      "16/16 [==============================] - 0s 29ms/step - loss: 0.0035 - mse: 0.0035 - mae: 0.0420 - val_loss: 0.0035 - val_mse: 0.0035 - val_mae: 0.0488\n",
      "Epoch 7/100\n",
      "16/16 [==============================] - 0s 29ms/step - loss: 0.0025 - mse: 0.0025 - mae: 0.0322 - val_loss: 0.0039 - val_mse: 0.0039 - val_mae: 0.0542\n",
      "Epoch 8/100\n",
      "16/16 [==============================] - 0s 30ms/step - loss: 0.0020 - mse: 0.0020 - mae: 0.0287 - val_loss: 0.0028 - val_mse: 0.0028 - val_mae: 0.0448\n",
      "Epoch 9/100\n",
      "16/16 [==============================] - 0s 30ms/step - loss: 0.0014 - mse: 0.0014 - mae: 0.0241 - val_loss: 0.0022 - val_mse: 0.0022 - val_mae: 0.0391\n",
      "Epoch 10/100\n",
      "16/16 [==============================] - 0s 29ms/step - loss: 0.0010 - mse: 0.0010 - mae: 0.0217 - val_loss: 0.0020 - val_mse: 0.0020 - val_mae: 0.0386\n",
      "Epoch 11/100\n",
      "16/16 [==============================] - 0s 29ms/step - loss: 9.9787e-04 - mse: 9.9787e-04 - mae: 0.0216 - val_loss: 0.0022 - val_mse: 0.0022 - val_mae: 0.0399\n",
      "Epoch 12/100\n",
      "16/16 [==============================] - 0s 29ms/step - loss: 0.0013 - mse: 0.0013 - mae: 0.0265 - val_loss: 0.0030 - val_mse: 0.0030 - val_mae: 0.0458\n",
      "Epoch 13/100\n",
      "16/16 [==============================] - 0s 29ms/step - loss: 7.4813e-04 - mse: 7.4813e-04 - mae: 0.0185 - val_loss: 0.0019 - val_mse: 0.0019 - val_mae: 0.0377\n",
      "Epoch 14/100\n",
      "16/16 [==============================] - 0s 29ms/step - loss: 7.9254e-04 - mse: 7.9254e-04 - mae: 0.0202 - val_loss: 0.0026 - val_mse: 0.0026 - val_mae: 0.0447\n",
      "Epoch 15/100\n",
      "16/16 [==============================] - 0s 29ms/step - loss: 6.6362e-04 - mse: 6.6362e-04 - mae: 0.0181 - val_loss: 0.0028 - val_mse: 0.0028 - val_mae: 0.0475\n",
      "Epoch 16/100\n",
      "16/16 [==============================] - 0s 29ms/step - loss: 9.3078e-04 - mse: 9.3078e-04 - mae: 0.0230 - val_loss: 0.0011 - val_mse: 0.0011 - val_mae: 0.0251\n",
      "Epoch 17/100\n",
      "16/16 [==============================] - 0s 29ms/step - loss: 7.2316e-04 - mse: 7.2316e-04 - mae: 0.0200 - val_loss: 0.0011 - val_mse: 0.0011 - val_mae: 0.0260\n",
      "Epoch 18/100\n",
      "16/16 [==============================] - 0s 30ms/step - loss: 6.3606e-04 - mse: 6.3606e-04 - mae: 0.0187 - val_loss: 0.0025 - val_mse: 0.0025 - val_mae: 0.0441\n",
      "Epoch 19/100\n",
      "16/16 [==============================] - 0s 29ms/step - loss: 4.6778e-04 - mse: 4.6778e-04 - mae: 0.0153 - val_loss: 0.0017 - val_mse: 0.0017 - val_mae: 0.0362\n",
      "Epoch 20/100\n",
      "16/16 [==============================] - 0s 29ms/step - loss: 3.4901e-04 - mse: 3.4901e-04 - mae: 0.0129 - val_loss: 0.0012 - val_mse: 0.0012 - val_mae: 0.0287\n",
      "Epoch 21/100\n",
      "16/16 [==============================] - 0s 29ms/step - loss: 4.2957e-04 - mse: 4.2957e-04 - mae: 0.0155 - val_loss: 9.7548e-04 - val_mse: 9.7548e-04 - val_mae: 0.0244\n",
      "Epoch 22/100\n",
      "16/16 [==============================] - 0s 29ms/step - loss: 4.1374e-04 - mse: 4.1374e-04 - mae: 0.0144 - val_loss: 0.0025 - val_mse: 0.0025 - val_mae: 0.0458\n",
      "Epoch 23/100\n",
      "16/16 [==============================] - 0s 29ms/step - loss: 5.3151e-04 - mse: 5.3151e-04 - mae: 0.0172 - val_loss: 7.7365e-04 - val_mse: 7.7365e-04 - val_mae: 0.0187\n",
      "Epoch 24/100\n",
      "16/16 [==============================] - 0s 30ms/step - loss: 4.2268e-04 - mse: 4.2268e-04 - mae: 0.0153 - val_loss: 0.0020 - val_mse: 0.0020 - val_mae: 0.0405\n",
      "Epoch 25/100\n",
      "16/16 [==============================] - 0s 29ms/step - loss: 3.3363e-04 - mse: 3.3363e-04 - mae: 0.0133 - val_loss: 0.0010 - val_mse: 0.0010 - val_mae: 0.0247\n",
      "Epoch 26/100\n",
      "16/16 [==============================] - 0s 28ms/step - loss: 2.8312e-04 - mse: 2.8312e-04 - mae: 0.0124 - val_loss: 0.0010 - val_mse: 0.0010 - val_mae: 0.0266\n",
      "Epoch 27/100\n",
      "16/16 [==============================] - 0s 29ms/step - loss: 2.2895e-04 - mse: 2.2895e-04 - mae: 0.0107 - val_loss: 0.0015 - val_mse: 0.0015 - val_mae: 0.0336\n",
      "Epoch 28/100\n",
      "16/16 [==============================] - 0s 29ms/step - loss: 2.2764e-04 - mse: 2.2764e-04 - mae: 0.0111 - val_loss: 0.0011 - val_mse: 0.0011 - val_mae: 0.0276\n",
      "Epoch 29/100\n",
      "16/16 [==============================] - 0s 29ms/step - loss: 2.6716e-04 - mse: 2.6716e-04 - mae: 0.0120 - val_loss: 0.0011 - val_mse: 0.0011 - val_mae: 0.0260\n",
      "Epoch 30/100\n",
      "16/16 [==============================] - 0s 29ms/step - loss: 3.1401e-04 - mse: 3.1401e-04 - mae: 0.0134 - val_loss: 0.0013 - val_mse: 0.0013 - val_mae: 0.0311\n",
      "Epoch 31/100\n",
      "16/16 [==============================] - 0s 30ms/step - loss: 2.0067e-04 - mse: 2.0067e-04 - mae: 0.0105 - val_loss: 0.0013 - val_mse: 0.0013 - val_mae: 0.0318\n",
      "Epoch 32/100\n",
      "16/16 [==============================] - 0s 29ms/step - loss: 1.5909e-04 - mse: 1.5909e-04 - mae: 0.0093 - val_loss: 0.0011 - val_mse: 0.0011 - val_mae: 0.0281\n",
      "Epoch 33/100\n",
      "16/16 [==============================] - 0s 29ms/step - loss: 1.6976e-04 - mse: 1.6976e-04 - mae: 0.0096 - val_loss: 0.0015 - val_mse: 0.0015 - val_mae: 0.0349\n",
      "Epoch 34/100\n",
      "16/16 [==============================] - 0s 30ms/step - loss: 1.8370e-04 - mse: 1.8370e-04 - mae: 0.0103 - val_loss: 0.0016 - val_mse: 0.0016 - val_mae: 0.0356\n",
      "Epoch 35/100\n",
      "16/16 [==============================] - 0s 29ms/step - loss: 1.5468e-04 - mse: 1.5468e-04 - mae: 0.0091 - val_loss: 8.9860e-04 - val_mse: 8.9860e-04 - val_mae: 0.0238\n",
      "Epoch 36/100\n",
      "16/16 [==============================] - 0s 29ms/step - loss: 2.1620e-04 - mse: 2.1620e-04 - mae: 0.0111 - val_loss: 0.0017 - val_mse: 0.0017 - val_mae: 0.0356\n",
      "Epoch 37/100\n",
      "16/16 [==============================] - 0s 30ms/step - loss: 2.3568e-04 - mse: 2.3568e-04 - mae: 0.0109 - val_loss: 0.0017 - val_mse: 0.0017 - val_mae: 0.0373\n",
      "Epoch 38/100\n",
      "16/16 [==============================] - 0s 29ms/step - loss: 1.4974e-04 - mse: 1.4974e-04 - mae: 0.0090 - val_loss: 8.3792e-04 - val_mse: 8.3792e-04 - val_mae: 0.0231\n",
      "Epoch 39/100\n",
      "16/16 [==============================] - 0s 29ms/step - loss: 2.0011e-04 - mse: 2.0011e-04 - mae: 0.0104 - val_loss: 8.4793e-04 - val_mse: 8.4793e-04 - val_mae: 0.0243\n",
      "Epoch 40/100\n",
      "16/16 [==============================] - 0s 30ms/step - loss: 1.5425e-04 - mse: 1.5425e-04 - mae: 0.0092 - val_loss: 7.7182e-04 - val_mse: 7.7182e-04 - val_mae: 0.0231\n",
      "Epoch 41/100\n",
      "16/16 [==============================] - 0s 30ms/step - loss: 1.5373e-04 - mse: 1.5373e-04 - mae: 0.0093 - val_loss: 0.0019 - val_mse: 0.0019 - val_mae: 0.0391\n",
      "Epoch 42/100\n",
      "16/16 [==============================] - 0s 29ms/step - loss: 2.4244e-04 - mse: 2.4244e-04 - mae: 0.0120 - val_loss: 0.0013 - val_mse: 0.0013 - val_mae: 0.0316\n",
      "Epoch 43/100\n",
      "16/16 [==============================] - 0s 29ms/step - loss: 2.3995e-04 - mse: 2.3995e-04 - mae: 0.0112 - val_loss: 0.0016 - val_mse: 0.0016 - val_mae: 0.0367\n",
      "Epoch 44/100\n",
      "16/16 [==============================] - 0s 29ms/step - loss: 2.3266e-04 - mse: 2.3266e-04 - mae: 0.0112 - val_loss: 0.0012 - val_mse: 0.0012 - val_mae: 0.0303\n",
      "Epoch 45/100\n",
      "16/16 [==============================] - 0s 29ms/step - loss: 1.3909e-04 - mse: 1.3909e-04 - mae: 0.0088 - val_loss: 0.0012 - val_mse: 0.0012 - val_mae: 0.0306\n",
      "Epoch 46/100\n",
      "16/16 [==============================] - 0s 29ms/step - loss: 1.2941e-04 - mse: 1.2941e-04 - mae: 0.0088 - val_loss: 0.0011 - val_mse: 0.0011 - val_mae: 0.0282\n",
      "Epoch 47/100\n",
      "16/16 [==============================] - 0s 29ms/step - loss: 1.1042e-04 - mse: 1.1042e-04 - mae: 0.0080 - val_loss: 0.0014 - val_mse: 0.0014 - val_mae: 0.0331\n",
      "Epoch 48/100\n",
      "16/16 [==============================] - 0s 29ms/step - loss: 1.0929e-04 - mse: 1.0929e-04 - mae: 0.0078 - val_loss: 0.0021 - val_mse: 0.0021 - val_mae: 0.0411\n"
     ]
    },
    {
     "name": "stdout",
     "output_type": "stream",
     "text": [
      "Epoch 49/100\n",
      "16/16 [==============================] - 0s 29ms/step - loss: 1.7552e-04 - mse: 1.7552e-04 - mae: 0.0105 - val_loss: 0.0015 - val_mse: 0.0015 - val_mae: 0.0350\n",
      "Epoch 50/100\n",
      "16/16 [==============================] - 0s 29ms/step - loss: 1.0397e-04 - mse: 1.0397e-04 - mae: 0.0077 - val_loss: 0.0013 - val_mse: 0.0013 - val_mae: 0.0314\n",
      "Epoch 51/100\n",
      "16/16 [==============================] - 0s 29ms/step - loss: 9.9098e-05 - mse: 9.9098e-05 - mae: 0.0077 - val_loss: 0.0013 - val_mse: 0.0013 - val_mae: 0.0327\n",
      "Epoch 52/100\n",
      "16/16 [==============================] - 0s 29ms/step - loss: 1.1968e-04 - mse: 1.1968e-04 - mae: 0.0084 - val_loss: 0.0018 - val_mse: 0.0018 - val_mae: 0.0382\n",
      "Epoch 53/100\n",
      "16/16 [==============================] - 0s 28ms/step - loss: 1.6111e-04 - mse: 1.6111e-04 - mae: 0.0099 - val_loss: 0.0026 - val_mse: 0.0026 - val_mae: 0.0470\n",
      "Epoch 54/100\n",
      "16/16 [==============================] - 0s 29ms/step - loss: 2.1293e-04 - mse: 2.1293e-04 - mae: 0.0115 - val_loss: 0.0011 - val_mse: 0.0011 - val_mae: 0.0288\n",
      "Epoch 55/100\n",
      "16/16 [==============================] - 0s 29ms/step - loss: 1.1486e-04 - mse: 1.1486e-04 - mae: 0.0083 - val_loss: 0.0013 - val_mse: 0.0013 - val_mae: 0.0317\n",
      "Epoch 56/100\n",
      "16/16 [==============================] - 0s 29ms/step - loss: 1.2136e-04 - mse: 1.2136e-04 - mae: 0.0082 - val_loss: 0.0013 - val_mse: 0.0013 - val_mae: 0.0317\n",
      "Epoch 57/100\n",
      "16/16 [==============================] - 0s 29ms/step - loss: 1.0803e-04 - mse: 1.0803e-04 - mae: 0.0079 - val_loss: 0.0020 - val_mse: 0.0020 - val_mae: 0.0403\n",
      "Epoch 58/100\n",
      "16/16 [==============================] - 0s 29ms/step - loss: 1.3359e-04 - mse: 1.3359e-04 - mae: 0.0091 - val_loss: 0.0021 - val_mse: 0.0021 - val_mae: 0.0412\n",
      "Epoch 59/100\n",
      "16/16 [==============================] - 0s 29ms/step - loss: 1.0467e-04 - mse: 1.0467e-04 - mae: 0.0078 - val_loss: 0.0011 - val_mse: 0.0011 - val_mae: 0.0283\n",
      "Epoch 60/100\n",
      "16/16 [==============================] - 0s 29ms/step - loss: 6.5918e-05 - mse: 6.5918e-05 - mae: 0.0062 - val_loss: 0.0015 - val_mse: 0.0015 - val_mae: 0.0356\n",
      "Epoch 61/100\n",
      "16/16 [==============================] - 0s 29ms/step - loss: 7.5410e-05 - mse: 7.5410e-05 - mae: 0.0067 - val_loss: 0.0013 - val_mse: 0.0013 - val_mae: 0.0323\n",
      "Epoch 62/100\n",
      "16/16 [==============================] - 0s 29ms/step - loss: 7.2330e-05 - mse: 7.2330e-05 - mae: 0.0068 - val_loss: 0.0011 - val_mse: 0.0011 - val_mae: 0.0281\n",
      "Epoch 63/100\n",
      "16/16 [==============================] - 0s 29ms/step - loss: 9.3103e-05 - mse: 9.3103e-05 - mae: 0.0073 - val_loss: 0.0011 - val_mse: 0.0011 - val_mae: 0.0300\n",
      "Epoch 64/100\n",
      "16/16 [==============================] - 0s 29ms/step - loss: 1.3201e-04 - mse: 1.3201e-04 - mae: 0.0084 - val_loss: 0.0012 - val_mse: 0.0012 - val_mae: 0.0311\n",
      "Epoch 65/100\n",
      "16/16 [==============================] - 0s 29ms/step - loss: 1.3421e-04 - mse: 1.3421e-04 - mae: 0.0087 - val_loss: 0.0026 - val_mse: 0.0026 - val_mae: 0.0457\n",
      "Epoch 66/100\n",
      "16/16 [==============================] - 0s 29ms/step - loss: 1.6269e-04 - mse: 1.6269e-04 - mae: 0.0098 - val_loss: 0.0013 - val_mse: 0.0013 - val_mae: 0.0324\n",
      "Epoch 67/100\n",
      "16/16 [==============================] - 0s 29ms/step - loss: 8.1779e-05 - mse: 8.1779e-05 - mae: 0.0069 - val_loss: 0.0015 - val_mse: 0.0015 - val_mae: 0.0347\n",
      "Epoch 68/100\n",
      "16/16 [==============================] - 0s 29ms/step - loss: 6.7988e-05 - mse: 6.7988e-05 - mae: 0.0064 - val_loss: 0.0022 - val_mse: 0.0022 - val_mae: 0.0432\n",
      "Epoch 69/100\n",
      "16/16 [==============================] - 0s 29ms/step - loss: 1.2259e-04 - mse: 1.2259e-04 - mae: 0.0087 - val_loss: 0.0010 - val_mse: 0.0010 - val_mae: 0.0279\n",
      "Epoch 70/100\n",
      "16/16 [==============================] - 0s 29ms/step - loss: 1.9171e-04 - mse: 1.9171e-04 - mae: 0.0110 - val_loss: 0.0021 - val_mse: 0.0021 - val_mae: 0.0415\n",
      "Epoch 71/100\n",
      "16/16 [==============================] - 0s 30ms/step - loss: 1.1288e-04 - mse: 1.1288e-04 - mae: 0.0083 - val_loss: 0.0013 - val_mse: 0.0013 - val_mae: 0.0323\n",
      "Epoch 72/100\n",
      "16/16 [==============================] - 0s 28ms/step - loss: 7.2084e-05 - mse: 7.2084e-05 - mae: 0.0064 - val_loss: 0.0020 - val_mse: 0.0020 - val_mae: 0.0411\n",
      "Epoch 73/100\n",
      "16/16 [==============================] - 0s 29ms/step - loss: 1.1994e-04 - mse: 1.1994e-04 - mae: 0.0080 - val_loss: 0.0011 - val_mse: 0.0011 - val_mae: 0.0275\n",
      "Epoch 74/100\n",
      "16/16 [==============================] - 0s 29ms/step - loss: 2.3161e-04 - mse: 2.3161e-04 - mae: 0.0116 - val_loss: 9.6465e-04 - val_mse: 9.6465e-04 - val_mae: 0.0276\n",
      "Epoch 75/100\n",
      "16/16 [==============================] - 0s 29ms/step - loss: 1.0872e-04 - mse: 1.0872e-04 - mae: 0.0078 - val_loss: 0.0020 - val_mse: 0.0020 - val_mae: 0.0402\n",
      "Epoch 76/100\n",
      "16/16 [==============================] - 0s 29ms/step - loss: 1.0481e-04 - mse: 1.0481e-04 - mae: 0.0078 - val_loss: 0.0018 - val_mse: 0.0018 - val_mae: 0.0379\n",
      "Epoch 77/100\n",
      "16/16 [==============================] - 0s 29ms/step - loss: 7.3086e-05 - mse: 7.3086e-05 - mae: 0.0062 - val_loss: 0.0012 - val_mse: 0.0012 - val_mae: 0.0309\n",
      "Epoch 78/100\n",
      "16/16 [==============================] - 0s 29ms/step - loss: 7.7977e-05 - mse: 7.7977e-05 - mae: 0.0070 - val_loss: 0.0011 - val_mse: 0.0011 - val_mae: 0.0288\n",
      "Epoch 79/100\n",
      "16/16 [==============================] - 0s 29ms/step - loss: 8.6331e-05 - mse: 8.6331e-05 - mae: 0.0071 - val_loss: 0.0016 - val_mse: 0.0016 - val_mae: 0.0363\n",
      "Epoch 80/100\n",
      "16/16 [==============================] - 0s 29ms/step - loss: 5.6408e-05 - mse: 5.6408e-05 - mae: 0.0059 - val_loss: 0.0013 - val_mse: 0.0013 - val_mae: 0.0317\n",
      "Epoch 81/100\n",
      "16/16 [==============================] - 0s 29ms/step - loss: 6.4976e-05 - mse: 6.4976e-05 - mae: 0.0062 - val_loss: 0.0012 - val_mse: 0.0012 - val_mae: 0.0312\n",
      "Epoch 82/100\n",
      "16/16 [==============================] - 0s 29ms/step - loss: 7.9594e-05 - mse: 7.9594e-05 - mae: 0.0069 - val_loss: 0.0010 - val_mse: 0.0010 - val_mae: 0.0279\n",
      "Epoch 83/100\n",
      "16/16 [==============================] - 0s 29ms/step - loss: 1.1062e-04 - mse: 1.1062e-04 - mae: 0.0083 - val_loss: 0.0019 - val_mse: 0.0019 - val_mae: 0.0396\n",
      "Epoch 84/100\n",
      "16/16 [==============================] - 0s 29ms/step - loss: 6.9213e-05 - mse: 6.9213e-05 - mae: 0.0065 - val_loss: 0.0014 - val_mse: 0.0014 - val_mae: 0.0334\n",
      "Epoch 85/100\n",
      "16/16 [==============================] - 0s 29ms/step - loss: 7.0861e-05 - mse: 7.0861e-05 - mae: 0.0064 - val_loss: 0.0023 - val_mse: 0.0023 - val_mae: 0.0442\n",
      "Epoch 86/100\n",
      "16/16 [==============================] - 0s 29ms/step - loss: 2.7793e-04 - mse: 2.7793e-04 - mae: 0.0129 - val_loss: 0.0031 - val_mse: 0.0031 - val_mae: 0.0497\n",
      "Epoch 87/100\n",
      "16/16 [==============================] - 0s 29ms/step - loss: 4.1276e-04 - mse: 4.1276e-04 - mae: 0.0157 - val_loss: 0.0019 - val_mse: 0.0019 - val_mae: 0.0401\n",
      "Epoch 88/100\n",
      "16/16 [==============================] - 0s 29ms/step - loss: 3.3178e-04 - mse: 3.3178e-04 - mae: 0.0120 - val_loss: 0.0028 - val_mse: 0.0028 - val_mae: 0.0482\n",
      "Epoch 89/100\n",
      "16/16 [==============================] - 0s 29ms/step - loss: 5.2191e-04 - mse: 5.2191e-04 - mae: 0.0174 - val_loss: 0.0013 - val_mse: 0.0013 - val_mae: 0.0295\n",
      "Epoch 90/100\n",
      "16/16 [==============================] - 0s 29ms/step - loss: 2.1934e-04 - mse: 2.1934e-04 - mae: 0.0105 - val_loss: 0.0018 - val_mse: 0.0018 - val_mae: 0.0378\n",
      "Epoch 91/100\n",
      "16/16 [==============================] - 0s 29ms/step - loss: 1.7941e-04 - mse: 1.7941e-04 - mae: 0.0099 - val_loss: 0.0022 - val_mse: 0.0022 - val_mae: 0.0428\n",
      "Epoch 92/100\n",
      "16/16 [==============================] - 0s 29ms/step - loss: 1.1895e-04 - mse: 1.1895e-04 - mae: 0.0080 - val_loss: 0.0010 - val_mse: 0.0010 - val_mae: 0.0280\n",
      "Epoch 93/100\n",
      "16/16 [==============================] - 0s 29ms/step - loss: 8.4273e-05 - mse: 8.4273e-05 - mae: 0.0068 - val_loss: 0.0014 - val_mse: 0.0014 - val_mae: 0.0333\n",
      "Epoch 94/100\n",
      "16/16 [==============================] - 0s 30ms/step - loss: 1.0940e-04 - mse: 1.0940e-04 - mae: 0.0076 - val_loss: 0.0018 - val_mse: 0.0018 - val_mae: 0.0377\n",
      "Epoch 95/100\n",
      "16/16 [==============================] - 0s 29ms/step - loss: 1.2125e-04 - mse: 1.2125e-04 - mae: 0.0081 - val_loss: 9.4849e-04 - val_mse: 9.4849e-04 - val_mae: 0.0264\n",
      "Epoch 96/100\n"
     ]
    },
    {
     "name": "stdout",
     "output_type": "stream",
     "text": [
      "16/16 [==============================] - 0s 29ms/step - loss: 8.6772e-05 - mse: 8.6772e-05 - mae: 0.0073 - val_loss: 0.0017 - val_mse: 0.0017 - val_mae: 0.0378\n",
      "Epoch 97/100\n",
      "16/16 [==============================] - 0s 29ms/step - loss: 9.4732e-05 - mse: 9.4732e-05 - mae: 0.0072 - val_loss: 0.0020 - val_mse: 0.0020 - val_mae: 0.0408\n",
      "Epoch 98/100\n",
      "16/16 [==============================] - 0s 29ms/step - loss: 1.3047e-04 - mse: 1.3047e-04 - mae: 0.0080 - val_loss: 0.0018 - val_mse: 0.0018 - val_mae: 0.0386\n",
      "Epoch 99/100\n",
      "16/16 [==============================] - 0s 29ms/step - loss: 1.0122e-04 - mse: 1.0122e-04 - mae: 0.0078 - val_loss: 0.0020 - val_mse: 0.0020 - val_mae: 0.0404\n",
      "Epoch 100/100\n",
      "16/16 [==============================] - 0s 31ms/step - loss: 1.2799e-04 - mse: 1.2799e-04 - mae: 0.0084 - val_loss: 6.7564e-04 - val_mse: 6.7564e-04 - val_mae: 0.0205\n"
     ]
    }
   ],
   "source": [
    "import tensorflow as tf\n",
    "from tensorflow.keras.layers import Conv1D, LSTM, Dense, Dropout, Bidirectional, TimeDistributed\n",
    "from tensorflow.keras.layers import MaxPooling1D, Flatten\n",
    "from tensorflow.keras.regularizers import L1, L2\n",
    "from tensorflow.keras.metrics import Accuracy\n",
    "from tensorflow.keras.metrics import RootMeanSquaredError\n",
    "\n",
    "model = tf.keras.Sequential()\n",
    "\n",
    "# Creating the Neural Network model here...\n",
    "# CNN layers\n",
    "model.add(TimeDistributed(Conv1D(64, kernel_size=3, activation='relu', input_shape=(None, 112, 1))))\n",
    "model.add(TimeDistributed(MaxPooling1D(2)))\n",
    "model.add(TimeDistributed(Conv1D(128, kernel_size=3, activation='relu')))\n",
    "model.add(TimeDistributed(MaxPooling1D(2)))\n",
    "model.add(TimeDistributed(Conv1D(64, kernel_size=3, activation='relu')))\n",
    "model.add(TimeDistributed(MaxPooling1D(2)))\n",
    "model.add(TimeDistributed(Flatten()))\n",
    "# model.add(Dense(5, kernel_regularizer=L2(0.01)))\n",
    "\n",
    "# LSTM layers\n",
    "model.add(Bidirectional(LSTM(100, return_sequences=True)))\n",
    "model.add(Dropout(0.5))\n",
    "model.add(Bidirectional(LSTM(100, return_sequences=False)))\n",
    "model.add(Dropout(0.5))\n",
    "\n",
    "#Final layers\n",
    "model.add(Dense(1, activation='linear'))\n",
    "model.compile(optimizer='adam', loss='mse', metrics=['mse', 'mae'])\n",
    "\n",
    "history = model.fit(train_X, train_Y, validation_data=(test_X,test_Y), epochs=100,batch_size=32, verbose=1, shuffle =True)"
   ]
  },
  {
   "cell_type": "code",
   "execution_count": null,
   "id": "11f8a6c1",
   "metadata": {},
   "outputs": [],
   "source": []
  }
 ],
 "metadata": {
  "kernelspec": {
   "display_name": "Python 3 (ipykernel)",
   "language": "python",
   "name": "python3"
  },
  "language_info": {
   "codemirror_mode": {
    "name": "ipython",
    "version": 3
   },
   "file_extension": ".py",
   "mimetype": "text/x-python",
   "name": "python",
   "nbconvert_exporter": "python",
   "pygments_lexer": "ipython3",
   "version": "3.8.13"
  }
 },
 "nbformat": 4,
 "nbformat_minor": 5
}
