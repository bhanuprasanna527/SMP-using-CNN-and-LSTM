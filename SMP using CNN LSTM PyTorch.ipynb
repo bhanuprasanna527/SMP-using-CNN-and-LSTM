{
 "cells": [
  {
   "cell_type": "code",
   "execution_count": 1,
   "id": "b97ca16e",
   "metadata": {},
   "outputs": [
    {
     "data": {
      "text/plain": [
       "Index(['SYMBOL', ' SERIES', ' DATE1', ' PREV_CLOSE', ' OPEN_PRICE',\n",
       "       ' HIGH_PRICE', ' LOW_PRICE', ' LAST_PRICE', ' CLOSE_PRICE',\n",
       "       ' AVG_PRICE', ' TTL_TRD_QNTY', ' TURNOVER_LACS', ' NO_OF_TRADES',\n",
       "       ' DELIV_QTY', ' DELIV_PER'],\n",
       "      dtype='object')"
      ]
     },
     "execution_count": 1,
     "metadata": {},
     "output_type": "execute_result"
    }
   ],
   "source": [
    "import numpy as np\n",
    "import pandas as pd\n",
    "from sklearn.preprocessing import MinMaxScaler\n",
    "\n",
    "scaler = MinMaxScaler()\n",
    "\n",
    "df = pd.read_csv(\"RELIANCE.csv\")\n",
    "df.columns"
   ]
  },
  {
   "cell_type": "code",
   "execution_count": 2,
   "id": "b44918a9",
   "metadata": {},
   "outputs": [],
   "source": [
    "df.drop(['SYMBOL', ' SERIES', ' DATE1'], inplace=True, axis=1)"
   ]
  },
  {
   "cell_type": "code",
   "execution_count": 3,
   "id": "7a533b9e",
   "metadata": {},
   "outputs": [],
   "source": [
    "df_Y = df[' CLOSE_PRICE'].copy()"
   ]
  },
  {
   "cell_type": "code",
   "execution_count": 4,
   "id": "e1a963b2",
   "metadata": {},
   "outputs": [],
   "source": [
    "df_split_Y = scaler.fit_transform(df_Y.to_numpy().reshape(-1,1))\n",
    "df_split_Y = pd.DataFrame(df_split_Y)"
   ]
  },
  {
   "cell_type": "code",
   "execution_count": 5,
   "id": "0f1947f7",
   "metadata": {},
   "outputs": [],
   "source": [
    "train_Y = df_split_Y.iloc[:487]\n",
    "test_Y = df_split_Y.iloc[487:609]"
   ]
  },
  {
   "cell_type": "code",
   "execution_count": 6,
   "id": "ef6a3d67",
   "metadata": {},
   "outputs": [
    {
     "name": "stdout",
     "output_type": "stream",
     "text": [
      "487\n",
      "122\n"
     ]
    }
   ],
   "source": [
    "from sklearn.model_selection import train_test_split\n",
    "\n",
    "X = []\n",
    "Y = []\n",
    "window_size=100\n",
    "for i in range(1 , len(df) - window_size -1 , 1):\n",
    "    first = df.iloc[i,2]\n",
    "    temp = []\n",
    "    temp2 = []\n",
    "    for j in range(window_size):\n",
    "        temp.append((df.iloc[i + j, 2] - first) / first)\n",
    "    temp2.append((df.iloc[i + window_size, 2] - first) / first)\n",
    "    X.append(np.array(temp).reshape(100, 1))\n",
    "    Y.append(np.array(temp2).reshape(1, 1))\n",
    "    \n",
    "# Y = df_train[' CLOSE_PRICE'].copy()\n",
    "# Y = df_train[' CLOSE_PRICE'][:609].copy().values\n",
    "# Y = Y.reshape((609,1,1))\n",
    "\n",
    "x_train, x_test, y_train, y_test = train_test_split(X, Y, test_size=0.2, shuffle=False)\n",
    "\n",
    "train_X = np.array(x_train)\n",
    "test_X = np.array(x_test)\n",
    "# train_Y = np.array(y_train)\n",
    "# test_Y = np.array(y_test)\n",
    "\n",
    "train_X = train_X.reshape(train_X.shape[0],1,100,1)\n",
    "test_X = test_X.reshape(test_X.shape[0],1,100,1)\n",
    "\n",
    "print(len(train_X))\n",
    "print(len(test_X))"
   ]
  },
  {
   "cell_type": "code",
   "execution_count": 7,
   "id": "c1857734",
   "metadata": {},
   "outputs": [],
   "source": [
    "dfx = pd.DataFrame(train_X.reshape((487,100)))\n",
    "dfy = pd.DataFrame(test_X.reshape((122,100)))"
   ]
  },
  {
   "cell_type": "code",
   "execution_count": 8,
   "id": "59cb2181",
   "metadata": {},
   "outputs": [],
   "source": [
    "df_split_X = pd.DataFrame(scaler.fit_transform(df))"
   ]
  },
  {
   "cell_type": "code",
   "execution_count": 9,
   "id": "1f988e29",
   "metadata": {},
   "outputs": [],
   "source": [
    "mx = pd.DataFrame(np.array(df_split_X.iloc[:487]))\n",
    "train_X = pd.concat([dfx, mx], axis=1)\n",
    "\n",
    "my = pd.DataFrame(np.array(df_split_X.iloc[487:609]))\n",
    "test_X = pd.concat([dfy,my], axis=1)"
   ]
  },
  {
   "cell_type": "code",
   "execution_count": 10,
   "id": "4db28bba",
   "metadata": {},
   "outputs": [
    {
     "data": {
      "text/plain": [
       "((487, 112), (487, 1), (122, 112), (122, 1))"
      ]
     },
     "execution_count": 10,
     "metadata": {},
     "output_type": "execute_result"
    }
   ],
   "source": [
    "train_X.shape, train_Y.shape, test_X.shape, test_Y.shape"
   ]
  },
  {
   "cell_type": "code",
   "execution_count": 11,
   "id": "bd79ac97",
   "metadata": {},
   "outputs": [],
   "source": [
    "train_X = np.array(train_X)\n",
    "test_X = np.array(test_X)\n",
    "train_Y = np.array(train_Y)\n",
    "test_Y = np.array(test_Y)\n",
    "\n",
    "train_X = train_X.reshape(train_X.shape[0],1,112,1)\n",
    "test_X = test_X.reshape(test_X.shape[0],1,112,1)"
   ]
  },
  {
   "cell_type": "code",
   "execution_count": null,
   "id": "26c2b85d",
   "metadata": {},
   "outputs": [],
   "source": [
    "import torch.nn as nn\n",
    "\n",
    "class cnn-lstm(nn.Module):\n",
    "    def __init__(self):\n",
    "        self."
   ]
  },
  {
   "cell_type": "code",
   "execution_count": null,
   "id": "6f960fae",
   "metadata": {},
   "outputs": [],
   "source": []
  },
  {
   "cell_type": "code",
   "execution_count": null,
   "id": "2677d9d6",
   "metadata": {},
   "outputs": [],
   "source": []
  },
  {
   "cell_type": "code",
   "execution_count": null,
   "id": "d01ce267",
   "metadata": {},
   "outputs": [],
   "source": []
  },
  {
   "cell_type": "code",
   "execution_count": null,
   "id": "f075e60c",
   "metadata": {},
   "outputs": [],
   "source": []
  },
  {
   "cell_type": "code",
   "execution_count": null,
   "id": "3cd8c7f9",
   "metadata": {},
   "outputs": [],
   "source": []
  },
  {
   "cell_type": "code",
   "execution_count": null,
   "id": "fdf5cd93",
   "metadata": {},
   "outputs": [],
   "source": []
  },
  {
   "cell_type": "code",
   "execution_count": null,
   "id": "c39fec0c",
   "metadata": {},
   "outputs": [],
   "source": []
  },
  {
   "cell_type": "code",
   "execution_count": null,
   "id": "68e875a7",
   "metadata": {},
   "outputs": [],
   "source": []
  }
 ],
 "metadata": {
  "kernelspec": {
   "display_name": "Python 3 (ipykernel)",
   "language": "python",
   "name": "python3"
  },
  "language_info": {
   "codemirror_mode": {
    "name": "ipython",
    "version": 3
   },
   "file_extension": ".py",
   "mimetype": "text/x-python",
   "name": "python",
   "nbconvert_exporter": "python",
   "pygments_lexer": "ipython3",
   "version": "3.8.13"
  }
 },
 "nbformat": 4,
 "nbformat_minor": 5
}
